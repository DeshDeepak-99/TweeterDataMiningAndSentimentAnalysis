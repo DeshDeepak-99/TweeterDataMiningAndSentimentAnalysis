{
 "cells": [
  {
   "cell_type": "code",
   "execution_count": 1,
   "metadata": {},
   "outputs": [],
   "source": [
    "import tweepy\n",
    "from collections import Counter\n",
    "import re\n",
    "from tweepy import OAuthHandler \n",
    "from textblob import TextBlob\n",
    "import matplotlib.pyplot as plt\n",
    "%matplotlib inline"
   ]
  },
  {
   "cell_type": "code",
   "execution_count": 2,
   "metadata": {},
   "outputs": [],
   "source": [
    "#Enter your own consumer key,consumer secret key,access token and access token secret key\n",
    "consumer_key = \"XXXXXXXXXXXXXXXXXXX\" \n",
    "consumer_secret = \"XXXXXXXXXXXXXXXXXXXXXXXXXX\" \n",
    "access_token = \"XXXXXXXXXXXXXXXXXXXXXXXXXXXXXXXXXXXXXXX\"\n",
    "access_token_secret = \"XXXXXXXXXXXXXXXXXXXXXXXXXXXXXXXXXXXXXXXXXXXX\""
   ]
  },
  {
   "cell_type": "code",
   "execution_count": 3,
   "metadata": {},
   "outputs": [],
   "source": [
    "auth = tweepy.OAuthHandler(consumer_key, consumer_secret) "
   ]
  },
  {
   "cell_type": "code",
   "execution_count": 4,
   "metadata": {},
   "outputs": [],
   "source": [
    "auth.set_access_token(access_token, access_token_secret) \n"
   ]
  },
  {
   "cell_type": "code",
   "execution_count": 5,
   "metadata": {},
   "outputs": [],
   "source": [
    "api = tweepy.API(auth) "
   ]
  },
  {
   "cell_type": "markdown",
   "metadata": {},
   "source": [
    "#  a) latest trending topic for India. (#tag and no of tweets for the particular #tag)"
   ]
  },
  {
   "cell_type": "code",
   "execution_count": 6,
   "metadata": {},
   "outputs": [],
   "source": [
    "def trendingInIndia():\n",
    "    counter1=0\n",
    "    counter2=0                                                                              \n",
    "    # WOEID of India \n",
    "    woeid = 23424848\n",
    "    \n",
    "    trends = api.trends_place(id = woeid) \n",
    "  \n",
    "    print(\"The top trends for the India are :\") \n",
    "  \n",
    "    for value in trends:    \n",
    "        for trend in value['trends']: \n",
    "            counter1 +=1\n",
    "            print(\"(\",counter1,\")\", trend['name'])\n",
    "            query = trend['name']\n",
    "            volume=trend['tweet_volume']\n",
    "            print(f\"number of tweets for {trend['name']} = {volume}:\")\n",
    "            \n"
   ]
  },
  {
   "cell_type": "code",
   "execution_count": 7,
   "metadata": {},
   "outputs": [
    {
     "name": "stdout",
     "output_type": "stream",
     "text": [
      "The top trends for the India are :\n",
      "( 1 ) #INDvENG\n",
      "number of tweets for #INDvENG = 124884:\n",
      "( 2 ) #modi_job_do\n",
      "number of tweets for #modi_job_do = 3542738:\n",
      "( 3 ) #NiravModi\n",
      "number of tweets for #NiravModi = None:\n",
      "( 4 ) #AxarPatel\n",
      "number of tweets for #AxarPatel = None:\n",
      "( 5 ) #ApnaBharatMorcha\n",
      "number of tweets for #ApnaBharatMorcha = None:\n",
      "( 6 ) Joe Root\n",
      "number of tweets for Joe Root = 13880:\n",
      "( 7 ) 13 TRACKS\n",
      "number of tweets for 13 TRACKS = 66017:\n",
      "( 8 ) England\n",
      "number of tweets for England = 148791:\n",
      "( 9 ) Awaiting SSR Justice\n",
      "number of tweets for Awaiting SSR Justice = 141389:\n",
      "( 10 ) Stokes\n",
      "number of tweets for Stokes = 13208:\n",
      "( 11 ) Pitch\n",
      "number of tweets for Pitch = 60798:\n",
      "( 12 ) UK Court\n",
      "number of tweets for UK Court = 10999:\n",
      "( 13 ) rahane\n",
      "number of tweets for rahane = None:\n",
      "( 14 ) emma watson\n",
      "number of tweets for emma watson = None:\n",
      "( 15 ) नीरव मोदी\n",
      "number of tweets for नीरव मोदी = None:\n",
      "( 16 ) Coimbatore\n",
      "number of tweets for Coimbatore = 24715:\n",
      "( 17 ) Bairstow\n",
      "number of tweets for Bairstow = None:\n",
      "( 18 ) Michael Clarke\n",
      "number of tweets for Michael Clarke = None:\n",
      "( 19 ) KIM TAEHYUNG\n",
      "number of tweets for KIM TAEHYUNG = 54290:\n",
      "( 20 ) Washington Sundar\n",
      "number of tweets for Washington Sundar = None:\n",
      "( 21 ) Welcome to BJP\n",
      "number of tweets for Welcome to BJP = 15058:\n",
      "( 22 ) Leach\n",
      "number of tweets for Leach = None:\n",
      "( 23 ) Mallya\n",
      "number of tweets for Mallya = None:\n",
      "( 24 ) ATEEZ PREVIEW\n",
      "number of tweets for ATEEZ PREVIEW = 148212:\n",
      "( 25 ) Rules 2021\n",
      "number of tweets for Rules 2021 = 20659:\n",
      "( 26 ) Sibley\n",
      "number of tweets for Sibley = None:\n",
      "( 27 ) Test Match\n",
      "number of tweets for Test Match = 21769:\n",
      "( 28 ) Test Cricket\n",
      "number of tweets for Test Cricket = 15815:\n",
      "( 29 ) Innings\n",
      "number of tweets for Innings = 22664:\n",
      "( 30 ) Timely Results\n",
      "number of tweets for Timely Results = 1542934:\n",
      "( 31 ) Timely Exam\n",
      "number of tweets for Timely Exam = 2520517:\n",
      "( 32 ) Jai NTR\n",
      "number of tweets for Jai NTR = None:\n",
      "( 33 ) wicket\n",
      "number of tweets for wicket = 31796:\n",
      "( 34 ) Rs 25\n",
      "number of tweets for Rs 25 = None:\n",
      "( 35 ) Ash Anna\n",
      "number of tweets for Ash Anna = None:\n",
      "( 36 ) Reform in Exam\n",
      "number of tweets for Reform in Exam = 1391108:\n",
      "( 37 ) मोदी सरकार\n",
      "number of tweets for मोदी सरकार = 177446:\n",
      "( 38 ) fatf\n",
      "number of tweets for fatf = None:\n",
      "( 39 ) CGL 2017 - 1,203 Days\n",
      "number of tweets for CGL 2017 - 1,203 Days = 681461:\n",
      "( 40 ) MTS 2019 - 498 Days\n",
      "number of tweets for MTS 2019 - 498 Days = 749956:\n",
      "( 41 ) Increase Vacancies\n",
      "number of tweets for Increase Vacancies = 1155555:\n",
      "( 42 ) cgl 2018 - 850 days\n",
      "number of tweets for cgl 2018 - 850 days = 895858:\n",
      "( 43 ) #BanPFI\n",
      "number of tweets for #BanPFI = 16012:\n",
      "( 44 ) #ottguidelines\n",
      "number of tweets for #ottguidelines = None:\n",
      "( 45 ) #मोदी_रोजगार_दो\n",
      "number of tweets for #मोदी_रोजगार_दो = 1671415:\n",
      "( 46 ) #_modi_rojgar_do\n",
      "number of tweets for #_modi_rojgar_do = 313917:\n",
      "( 47 ) #SoBaby\n",
      "number of tweets for #SoBaby = 31728:\n",
      "( 48 ) #आरक्षण_हटाओ_रोजगार_पाओ\n",
      "number of tweets for #आरक्षण_हटाओ_रोजगार_पाओ = 23672:\n",
      "( 49 ) #ResponsibleFreedom\n",
      "number of tweets for #ResponsibleFreedom = 10202:\n",
      "( 50 ) #OTTplatforms\n",
      "number of tweets for #OTTplatforms = None:\n"
     ]
    }
   ],
   "source": [
    "trendingInIndia()"
   ]
  },
  {
   "cell_type": "markdown",
   "metadata": {},
   "source": [
    "# b) Extract first 100 tweets for a user"
   ]
  },
  {
   "cell_type": "code",
   "execution_count": 8,
   "metadata": {},
   "outputs": [],
   "source": [
    "def first100Tweets(username):\n",
    "    count=0\n",
    "    \n",
    "    name = username\n",
    "\n",
    "    tweetCount = 100\n",
    "\n",
    "    \n",
    "    results = api.user_timeline(id=name, count=tweetCount)\n",
    "\n",
    "\n",
    "    for tweet in results:\n",
    "        \n",
    "        count +=1\n",
    "        print(\"(\",count,\")\",tweet.text)\n",
    "        \n",
    "    if(count < tweetCount):\n",
    "        print(f\"There are only {count} tweets of {username}\")"
   ]
  },
  {
   "cell_type": "code",
   "execution_count": 9,
   "metadata": {},
   "outputs": [
    {
     "name": "stdout",
     "output_type": "stream",
     "text": [
      "( 1 ) RT @WhiteHouse: On Friday, President Biden toured a Pfizer manufacturing plant in Michigan to see the vaccine production process firsthand…\n",
      "( 2 ) RT @POTUS: When I met with Prime Minister @JustinTrudeau in 2016, I said the world needed more leaders like him. A lot has changed since th…\n",
      "( 3 ) RT @POTUS: Small businesses need relief, but many were muscled out of the way by big companies last year. That’s why starting today, we’re…\n",
      "( 4 ) RT @JoeBiden: We need a president who is respected on the world stage. https://t.co/Hqv6T06Mtv\n",
      "( 5 ) RT @POTUS: We will get through this, I promise you. https://t.co/dtmi4C9WsM\n",
      "( 6 ) RT @POTUS: 500,000 lives lost to COVID-19. It’s an unfathomable number, but each one represents a family that will never again be whole. To…\n",
      "( 7 ) RT @POTUS: I know folks have a lot of questions about COVID-19 mutations, our vaccination progress, and much more. @CDCDirector Dr. Walensk…\n",
      "( 8 ) RT @POTUS: If there’s one message I want to cut through to everyone in this country, it’s this: The vaccines are safe.\n",
      "\n",
      "For yourself, your…\n",
      "( 9 ) RT @POTUS: Today would have been Congressman John Lewis’ 81st birthday. While my dear friend may no longer be with us, his life and legacy…\n",
      "( 10 ) RT @POTUS: Overcoming the COVID-19 pandemic needs to be our top priority as a nation. I joined members of my team to talk about our plan to…\n",
      "( 11 ) RT @POTUS: The federal government has sent generators, blankets, water, and other critical supplies to Texas, but local organizations on th…\n",
      "( 12 ) RT @POTUS: On Thursday, I joined the world and watched in awe as the Perseverance Rover touched down on the surface of Mars. It was a remar…\n",
      "( 13 ) RT @POTUS: Today, America is officially back in the Paris Climate Agreement. Let’s get to work.\n",
      "( 14 ) RT @POTUS: The Equality Act provides long overdue federal civil rights protections for LGBTQ+ Americans, preventing discrimination in our h…\n",
      "( 15 ) RT @WhiteHouse: Texas — If you’re without heat, head to https://t.co/5WhFEK6B8u to find a warming shelter near you or call 211 for addition…\n",
      "( 16 ) RT @POTUS: Jill and I are keeping Texas, Oklahoma, and other impacted states in our prayers. I’ve declared states of emergency, authorized…\n",
      "( 17 ) RT @POTUS: Today I announced our Administration will:\n",
      "\n",
      "- Expand COVID-19 testing for schools and underserved communities\n",
      "- Increase manufac…\n",
      "( 18 ) RT @WhiteHouse: The Biden-Harris Administration opened a special enrollment period to ensure every American has the opportunity to sign up…\n",
      "( 19 ) RT @POTUS: I know COVID-19 can be scary, but I want every kid out there to know things are going to be okay. https://t.co/wZIxHeNAFa\n",
      "( 20 ) RT @POTUS: Tonight, I’ll be answering questions at my first town hall since taking office. Make sure to tune in to CNN at 9 PM ET / 8 PM CT…\n",
      "( 21 ) RT @POTUS: Starting this week, our Administration is:\n",
      "\n",
      "- Increasing weekly vaccine shipments to states to 13.5 million doses — a 57% increa…\n",
      "( 22 ) RT @POTUS: Before I took office, I set a big goal of administering 100 million shots in the first 100 days. With the progress we’re making…\n",
      "( 23 ) RT @POTUS: The love of my life and the life of my love. Happy Valentine’s Day, Jilly. https://t.co/LjLLIjvP1C\n",
      "( 24 ) RT @POTUS: Three years ago today, a lone gunman took the lives of 14 students and three educators in Parkland, Florida. In seconds, the liv…\n",
      "( 25 ) RT @POTUS: Samir and Neal own NaanStop in Atlanta, Georgia — and like many small businesses around the country, they’ve been hit hard by th…\n",
      "( 26 ) RT @POTUS: I know the last year has been difficult and painful for all of us. I hope Jill’s Valentine’s Day message helped brighten your da…\n",
      "( 27 ) RT @POTUS: From the Biden family to yours, happy #LunarNewYear. We wish you happiness, health, and prosperity in the Year of the Ox. https:…\n",
      "( 28 ) RT @POTUS: I see enormous pain in this country. A lot of folks are out of work. A lot of folks are going hungry, staring at the ceiling at…\n",
      "( 29 ) RT @POTUS: No child should grow up in poverty. The American Rescue Plan will expand the child tax credit and cut the child poverty rate in…\n",
      "( 30 ) RT @POTUS: We can reduce suffering in this country, put people back to work, and gain control of this virus.\n",
      "\n",
      "That’s what the American Resc…\n",
      "( 31 ) RT @POTUS: The risk isn't that we do too much when it comes to a COVID relief package — it's that we don't do enough.\n",
      "\n",
      "We have to go big.\n",
      "( 32 ) RT @POTUS: Let me be clear: No one should lose their home in the middle of this pandemic. Congress needs to pass the American Rescue Plan t…\n",
      "( 33 ) RT @POTUS: We can’t stand by as millions of Americans struggle to put food on the table. Congress needs to immediately pass the American Re…\n",
      "( 34 ) RT @POTUS: There’s so much more work to be done, but we’ve been able to increase vaccine distribution by 28% in the first three weeks alone…\n",
      "( 35 ) RT @POTUS: Launching a national vaccination program to quickly and equitably vaccinate America — that’s the American Rescue Plan. https://t…\n",
      "( 36 ) RT @POTUS: Making vaccines free and accessible for every American — that’s the American Rescue Plan. https://t.co/5GpH0VYWIE\n",
      "( 37 ) RT @POTUS: We don’t have a second to waste when it comes to delivering the American people the relief they desperately need. I’m calling on…\n",
      "( 38 ) RT @POTUS: For your family, for your neighbors, for your country — wear a mask.\n",
      "( 39 ) RT @POTUS: Everyone who wants a vaccine should be able to get one free of charge. The American Rescue Plan will make that a reality.\n",
      "( 40 ) RT @POTUS: Last year, Michele lost her job because of the pandemic. I recently gave her a call to hear her story and discuss how my America…\n",
      "( 41 ) RT @POTUS: This morning, I met with House Democratic leaders to discuss the American Rescue Plan. As I said during the meeting: this isn’t…\n",
      "( 42 ) RT @POTUS: America is back. Diplomacy is back. https://t.co/03dFPQyYjw\n",
      "( 43 ) RT @POTUS: This afternoon, I’m visiting the @StateDept and delivering remarks on America’s role in the world. Tune in. https://t.co/zWG3UET…\n",
      "( 44 ) RT @POTUS: Extending the moratorium on evictions and foreclosures to help countless Americans keep a roof over their head — that’s the Amer…\n",
      "( 45 ) RT @POTUS: Let me be clear: The risk in this moment isn’t that we do too much — it’s that we don’t do enough. Congress must pass the Americ…\n",
      "( 46 ) RT @POTUS: Officer Brian Sicknick was a hero who died in the line of duty defending our democracy and the citadel of liberty itself. To his…\n",
      "( 47 ) RT @POTUS: No one should lose their home in the middle of this pandemic. My American Rescue Plan will extend the moratorium on evictions an…\n",
      "( 48 ) RT @POTUS: It’s long past time we raise the minimum wage to $15 an hour. The American Rescue Plan will get it done.\n",
      "( 49 ) RT @POTUS: We’ve never fully lived up to the founding principles of this nation, but our Administration is committed to finishing the work…\n",
      "( 50 ) RT @POTUS: In order to get America vaccinated, we need more:\n",
      "\n",
      "- Places for people to get vaccinated\n",
      "- Medical teams to get shots into arms…\n",
      "( 51 ) RT @POTUS: Over the last 10 days, I’ve taken action on:\n",
      "\n",
      "- COVID-19\n",
      "- The economy\n",
      "- Climate change\n",
      "- Racial equity\n",
      "- Immigration\n",
      "- Health c…\n",
      "( 52 ) RT @POTUS: This afternoon, I’ll be taking action to meet the climate crisis with the urgency it demands. Tune in. https://t.co/TaCmltDZ6X\n",
      "( 53 ) RT @POTUS: We’re facing a historic moment in our nation’s history — one that requires bold and swift action. That’s why this week, I took h…\n",
      "( 54 ) RT @POTUS: We will get through this, together. https://t.co/W03wlb2m8o\n",
      "( 55 ) RT @POTUS: Federal employees have dedicated their careers to serving the American people — and they are worthy of the utmost dignity and re…\n",
      "( 56 ) RT @POTUS: I know times are tough, but help is on the way. https://t.co/BVi3b6NoBv\n",
      "( 57 ) RT @POTUS: This afternoon, I’ll be taking action to provide much-needed relief to communities and small businesses impacted by COVID-19. Tu…\n",
      "( 58 ) RT @POTUS: As we mark the 48th anniversary of Roe v. Wade, now is the time to rededicate ourselves to the work ahead. From codifying Roe to…\n",
      "( 59 ) RT @POTUS: I’m grateful for the Senate’s continued bipartisanship and swift confirmation of Lloyd Austin. His confirmation is historic — an…\n",
      "( 60 ) RT @POTUS: We will get this virus under control. https://t.co/59iC1nyR0N\n",
      "( 61 ) RT @POTUS: I give you my word: I will always level with you.\n",
      "\n",
      "I will defend the Constitution, our democracy, and America.\n",
      "\n",
      "And I will give…\n",
      "( 62 ) RT @POTUS: We don't have a second to waste when it comes to getting this virus under control. That's why today, I'll be signing executive a…\n",
      "( 63 ) RT @WhiteHouse: We are currently facing four converging crises — COVID-19, the resulting economic crisis, climate change, and racial inequi…\n",
      "( 64 ) RT @POTUS: Wearing masks isn't a partisan issue — it's a patriotic act that can save countless lives. That's why I signed an executive orde…\n",
      "( 65 ) RT @POTUS: The time to move forward is now. https://t.co/IrUUu0bxGO\n",
      "( 66 ) RT @POTUS: There is no time to waste when it comes to tackling the crises we face. That's why today, I am heading to the Oval Office to get…\n",
      "( 67 ) Now the real work begins, folks. Follow along at @POTUS as we build back better. https://t.co/fHViqSqwp2\n",
      "( 68 ) I love you, Jilly, and I couldn’t be more grateful to have you with me on the journey ahead. https://t.co/V4GUXAKSKg\n",
      "( 69 ) Today, we begin anew. Tune in for #Inauguration2021. https://t.co/HxfU8q5riA\n",
      "( 70 ) It’s a new day in America.\n",
      "( 71 ) Tonight, in Washington, D.C. and across the nation, we came together to honor the over 400,000 Americans we’ve lost… https://t.co/q3gB1RJjvv\n",
      "( 72 ) We don’t have a second to waste when it comes to tackling the crises we face as a nation. That’s why after being sw… https://t.co/eza8IKs9Pf\n",
      "( 73 ) Join us for a national moment of unity and remembrance in honor of the 400,000 Americans we’ve lost due to COVID-19. https://t.co/0BW7AQLxUx\n",
      "( 74 ) Next stop: Washington, D.C. https://t.co/oW0C4LQVBf\n",
      "( 75 ) I’m in Delaware for one final event before I head to Washington for tomorrow’s inauguration. Tune in. https://t.co/YnEMiqhhDE\n",
      "( 76 ) RT @BidenInaugural: Only ONE day until we can call @JoeBiden and @KamalaHarris President and Vice President\n",
      "\n",
      "You don’t want to miss out on…\n",
      "( 77 ) There’s no more fitting way to honor the legacy of Dr. Martin Luther King, Jr. than service. Thank you to… https://t.co/3L1zHkmEzR\n",
      "( 78 ) As the National Day of Service comes to a close, we’re celebrating the legacy of Dr. Martin Luther King, Jr. with a… https://t.co/OJhFw2PiUE\n",
      "( 79 ) Dr. Martin Luther King, Jr.’s words remind us that darkness cannot drive out darkness and hate cannot drive out hat… https://t.co/m3iRNj9Bzt\n",
      "( 80 ) Our Administration will lead with science and scientists — with a CDC and NIH that are free from political influenc… https://t.co/8I88LBVALq\n",
      "( 81 ) I know @harrisonjaime and the new DNC team are ready to strengthen our party’s infrastructure and elect Democrats a… https://t.co/wrOvbcyZSk\n",
      "( 82 ) Service is a fitting way to start to heal, unite, and rebuild this country we love.\n",
      "\n",
      "I hope you’ll join us in honor… https://t.co/vL0SFZQdOF\n",
      "( 83 ) I know masks have become a partisan issue — but it’s a patriotic act. Experts say wearing a mask from now until Apr… https://t.co/XHexAioS5U\n",
      "( 84 ) Though pushed, tested, and threatened throughout the 2020 election, our democracy proved to be resilient, true, and… https://t.co/2JfXVQLQN3\n",
      "( 85 ) Across the country, approximately 14 million Americans have fallen behind on rent and many may soon be at risk of e… https://t.co/1oUOomur7s\n",
      "( 86 ) The first @BidenInaugural event is here. Tune in as we celebrate America, reflect and honor our history, and highli… https://t.co/WpJo2Kxdgr\n",
      "( 87 ) To get as many people vaccinated as quickly as possible, we need more clinics across the nation. That’s why my admi… https://t.co/nhzPNXNruk\n",
      "( 88 ) Science will be at the forefront of my administration — and this group will ensure everything we do is grounded in… https://t.co/n0Sos0SOdx\n",
      "( 89 ) Getting America vaccinated will be one of the most challenging operational efforts ever undertaken. But you have my… https://t.co/mNdZQOlSYc\n",
      "( 90 ) We not only have an economic imperative to act now, we have a moral obligation. \n",
      " \n",
      "In this pandemic, in America, we… https://t.co/i8Pmbmy1iJ\n",
      "( 91 ) Science will always be at the forefront of my administration — and these world-renowned scientists will ensure ever… https://t.co/sAZVOszzqD\n",
      "( 92 ) RT @BidenInaugural: 5 days until we make history.\n",
      "\n",
      "❤️ or 🔁 this tweet to get reminded when we go live for #Inauguration2021 — you won't wan…\n",
      "( 93 ) My administration will move Heaven and Earth to:\n",
      "\n",
      "- Allow more people to get vaccinated\n",
      "- Create more places for th… https://t.co/yLoRNU2MKF\n",
      "( 94 ) To Pilar, and the countless other small business owners across the country, know that help is on the way. https://t.co/4mKPjN6rgx\n",
      "( 95 ) Direct cash payments.\n",
      "Extended unemployment.\n",
      "Rent relief. \n",
      "Food assistance. \n",
      "Aid to small businesses.\n",
      "Keeping essen… https://t.co/G3OiZzRd0J\n",
      "( 96 ) We have no time to waste when it comes to getting this virus under control and building our economy back better. Tu… https://t.co/jlfTxmv8Tj\n",
      "( 97 ) We need to tackle the public health and economic crises we’re facing head-on. That’s why today, I’m announcing my A… https://t.co/q9mu0UEw3z\n",
      "( 98 ) We’re in the teeth of this crisis, and we need to take immediate action to get the virus under control. That’s why… https://t.co/ovOtIYGCjV\n",
      "( 99 ) Today, in a bipartisan vote, the House voted to impeach and hold President Trump accountable. Now, the process cont… https://t.co/BReZ8t0gO0\n",
      "( 100 ) Ambassador Samantha Power is a world-renowned voice of conscience and moral clarity—challenging and rallying the in… https://t.co/OyZ8P13yrB\n"
     ]
    }
   ],
   "source": [
    "first100Tweets('JoeBiden')"
   ]
  },
  {
   "cell_type": "code",
   "execution_count": null,
   "metadata": {},
   "outputs": [],
   "source": [
    "\n"
   ]
  },
  {
   "cell_type": "markdown",
   "metadata": {},
   "source": [
    "# c) Sentiment Analysis for a Person (Is it positive/negative, what is the perception)\n"
   ]
  },
  {
   "cell_type": "code",
   "execution_count": 10,
   "metadata": {},
   "outputs": [],
   "source": [
    "def sentimentAnalysis(username):\n",
    "    noOfTweets=5000\n",
    "    tweets=api.search(username,count=noOfTweets)\n",
    "    \n",
    "    positive = 0\n",
    "    negative = 0\n",
    "    neutral = 0\n",
    "    polarity = 0\n",
    "    \n",
    "    for tweet in tweets:\n",
    "        #print(tweet.text)\n",
    "        analysis = TextBlob(tweet.text)\n",
    "        polarity += analysis.sentiment.polarity\n",
    "        \n",
    "        if analysis.sentiment.polarity == 0:\n",
    "            neutral += 1\n",
    "        elif analysis.sentiment.polarity < 0.00:\n",
    "            negative += 1\n",
    "        elif analysis.sentiment.polarity > 0.00:\n",
    "            positive += 1\n",
    "    positive = (float(positive)/float(noOfTweets))*100*100\n",
    "    negative = (float(negative)/float(noOfTweets))*100*100\n",
    "    neutral = (float(neutral)/float(noOfTweets))*100*100\n",
    "    polarity = (float(polarity)/float(noOfTweets))*100\n",
    "    neutral=100-(positive+negative)\n",
    "    positive = format(positive, '.2f' )\n",
    "    negative = format(negative, '.2f' )\n",
    "    neutral = format(neutral, '.2f' )\n",
    "    \n",
    "    print(f\"The sentiment analysis for {username} by analyzing {noOfTweets} tweets :\")\n",
    "    print('positive sentiments are:',positive)\n",
    "    print('negative sentiments are:',negative)\n",
    "    print('neutral sentiments are:',neutral)\n",
    "    print(\"Overall Polarity is:\",polarity)\n",
    "    if polarity == 0:\n",
    "        print(\"Neutral\")\n",
    "    elif polarity < 0.00:\n",
    "        print(\"Negative\")\n",
    "    elif polarity > 0.00:\n",
    "        print(\"positive\")\n",
    "    labels=['Positive ['+str(positive)+'%]', 'Neutral ['+str(neutral)+'%]', 'Negative ['+str(negative)+'%]']\n",
    "    size=[positive, neutral, negative]\n",
    "    colors=['blue', 'green', 'red']\n",
    "    patches, texts =plt.pie(size,colors=colors, startangle=90)\n",
    "    plt.legend(patches, labels, loc=\"best\")\n",
    "    plt.title('Sentiment Analysis For '+username)\n",
    "    plt.axis('equal')\n",
    "    plt.tight_layout()\n",
    "    plt.show()\n",
    "    \n",
    "\n",
    "    "
   ]
  },
  {
   "cell_type": "code",
   "execution_count": 11,
   "metadata": {},
   "outputs": [
    {
     "name": "stdout",
     "output_type": "stream",
     "text": [
      "The sentiment analysis for JoeBiden by analyzing 5000 tweets :\n",
      "positive sentiments are: 44.00\n",
      "negative sentiments are: 34.00\n",
      "neutral sentiments are: 22.00\n",
      "Overall Polarity is: 0.09011060606060609\n",
      "positive\n"
     ]
    },
    {
     "data": {
      "image/png": "[encoded data removed]",
      "text/plain": [
       "<Figure size 432x288 with 1 Axes>"
      ]
     },
     "metadata": {},
     "output_type": "display_data"
    }
   ],
   "source": [
    "sentimentAnalysis('JoeBiden')"
   ]
  },
  {
   "cell_type": "code",
   "execution_count": 12,
   "metadata": {},
   "outputs": [
    {
     "name": "stdout",
     "output_type": "stream",
     "text": [
      "The sentiment analysis for Joe Biden by analyzing 5000 tweets :\n",
      "positive sentiments are: 48.00\n",
      "negative sentiments are: 30.00\n",
      "neutral sentiments are: 22.00\n",
      "Overall Polarity is: 0.0911314935064935\n",
      "positive\n"
     ]
    },
    {
     "data": {
      "image/png": "[encoded data removed]",
      "text/plain": [
       "<Figure size 432x288 with 1 Axes>"
      ]
     },
     "metadata": {},
     "output_type": "display_data"
    }
   ],
   "source": [
    "sentimentAnalysis('Joe Biden')"
   ]
  },
  {
   "cell_type": "code",
   "execution_count": null,
   "metadata": {},
   "outputs": [],
   "source": []
  },
  {
   "cell_type": "code",
   "execution_count": null,
   "metadata": {},
   "outputs": [],
   "source": []
  },
  {
   "cell_type": "code",
   "execution_count": null,
   "metadata": {},
   "outputs": [],
   "source": []
  },
  {
   "cell_type": "code",
   "execution_count": null,
   "metadata": {},
   "outputs": [],
   "source": []
  },
  {
   "cell_type": "code",
   "execution_count": null,
   "metadata": {},
   "outputs": [],
   "source": []
  }
 ],
 "metadata": {
  "kernelspec": {
   "display_name": "Python 3",
   "language": "python",
   "name": "python3"
  },
  "language_info": {
   "codemirror_mode": {
    "name": "ipython",
    "version": 3
   },
   "file_extension": ".py",
   "mimetype": "text/x-python",
   "name": "python",
   "nbconvert_exporter": "python",
   "pygments_lexer": "ipython3",
   "version": "3.8.3"
  }
 },
 "nbformat": 4,
 "nbformat_minor": 4
}
